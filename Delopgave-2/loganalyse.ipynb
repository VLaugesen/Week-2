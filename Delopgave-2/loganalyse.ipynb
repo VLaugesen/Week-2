{
 "cells": [
  {
   "cell_type": "code",
   "execution_count": null,
   "id": "78232e03",
   "metadata": {},
   "outputs": [],
   "source": [
    "import os\n",
    "\n",
    "def filter_log(path):\n",
    "    \"\"\"\n",
    "    Reads an input logfile and writes each category of log to seperate files.\n",
    "    \"\"\"\n",
    "    with open(path) as log:\n",
    "        full_log = log.readlines()\n",
    "\n",
    "    # For each type of log event, write the log lines matching the current type\n",
    "    with open(\"WARNING.txt\", \"w\") as warning, open(\"ERROR.txt\", \"w\") as error, open(\"SUCCESS.txt\", \"w\") as success, open(\"INFO.txt\", \"w\") as info:\n",
    "        for line in full_log:\n",
    "            if \"WARNING\" in line:\n",
    "                warning.write(line)\n",
    "            \n",
    "            elif \"ERROR\" in line:\n",
    "                error.write(line)\n",
    "\n",
    "            elif \"SUCCESS\" in line:\n",
    "                success.write(line)\n",
    "\n",
    "            elif \"INFO\" in line:\n",
    "                info.write(line)\n",
    "                \n",
    "        "
   ]
  },
  {
   "cell_type": "code",
   "execution_count": 2,
   "id": "53326055",
   "metadata": {},
   "outputs": [],
   "source": [
    "filter_log(os.path.join(\"..\", \"Data\", \"app_log (logfil analyse) - random.txt\"))"
   ]
  }
 ],
 "metadata": {
  "kernelspec": {
   "display_name": "Python 3",
   "language": "python",
   "name": "python3"
  },
  "language_info": {
   "codemirror_mode": {
    "name": "ipython",
    "version": 3
   },
   "file_extension": ".py",
   "mimetype": "text/x-python",
   "name": "python",
   "nbconvert_exporter": "python",
   "pygments_lexer": "ipython3",
   "version": "3.13.7"
  }
 },
 "nbformat": 4,
 "nbformat_minor": 5
}
