{
 "cells": [
  {
   "cell_type": "code",
   "execution_count": null,
   "id": "b04172a4",
   "metadata": {},
   "outputs": [],
   "source": [
    "def parse_file(source_path, dest_path):\n",
    "    try:\n",
    "        data = read_file(source_path)\n",
    "    except FileNotFoundError:\n",
    "        print(f\"Error: Source file '{source_path}' does not exist.\")\n",
    "        return\n",
    "    except PermissionError:\n",
    "        print(f\"Error: No read permission for source file '{source_path}'.\")\n",
    "        return\n",
    "    except Exception as e:\n",
    "        print(f\"Unexpected error while reading source file: {e}\")\n",
    "        return\n",
    "\n",
    "    try:\n",
    "        write_file(dest_path, data)\n",
    "    except PermissionError:\n",
    "        print(f\"Error: No write permission for destination file '{dest_path}'.\")\n",
    "    except Exception as e:\n",
    "        print(f\"Unexpected error while writing to destination file: {e}\")\n",
    "\n",
    "\n",
    "def read_file(path):\n",
    "    with open(path, 'r') as file:\n",
    "        try:\n",
    "            data = file.read()\n",
    "            # Simulate a formatting error (e.g., CSV parsing)\n",
    "            if not data or ',' not in data:\n",
    "                raise ValueError(\"Source file format is incorrect or missing expected data.\")\n",
    "        except ValueError as ve:\n",
    "            print(f\"Formatting error: {ve}\")\n",
    "            return\n",
    "\n",
    "\n",
    "def write_file(path, data):\n",
    "    with open(path, 'w', encoding='utf-8') as dest_file:\n",
    "            dest_file.write(data)\n",
    "    print(f\"Data successfully copied from to '{path}'.\")"
   ]
  },
  {
   "cell_type": "code",
   "execution_count": null,
   "id": "dacc5dc1",
   "metadata": {},
   "outputs": [
    {
     "name": "stdout",
     "output_type": "stream",
     "text": [
      "1\n"
     ]
    }
   ],
   "source": [
    "parse_file(\"../Data/source_data.csv\")"
   ]
  }
 ],
 "metadata": {
  "kernelspec": {
   "display_name": "Python 3",
   "language": "python",
   "name": "python3"
  },
  "language_info": {
   "codemirror_mode": {
    "name": "ipython",
    "version": 3
   },
   "file_extension": ".py",
   "mimetype": "text/x-python",
   "name": "python",
   "nbconvert_exporter": "python",
   "pygments_lexer": "ipython3",
   "version": "3.13.7"
  }
 },
 "nbformat": 4,
 "nbformat_minor": 5
}
